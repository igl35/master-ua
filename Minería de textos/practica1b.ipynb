{
 "cells": [
  {
   "cell_type": "code",
   "execution_count": 3,
   "metadata": {},
   "outputs": [
    {
     "name": "stdout",
     "output_type": "stream",
     "text": [
      "--2023-02-12 19:27:21--  https://www.dropbox.com/s/3x7x7x7x7x7x7x7/lexesp.zip?dl=0\n",
      "Resolving www.dropbox.com (www.dropbox.com)... 162.125.65.18, 2620:100:6020:18::a27d:4012\n",
      "Connecting to www.dropbox.com (www.dropbox.com)|162.125.65.18|:443... connected.\n",
      "HTTP request sent, awaiting response... 200 OK\n",
      "Length: unspecified [text/html]\n",
      "Saving to: ‘lexesp.zip’\n",
      "\n",
      "lexesp.zip              [  <=>               ] 426.71K   985KB/s    in 0.4s    \n",
      "\n",
      "2023-02-12 19:27:22 (985 KB/s) - ‘lexesp.zip’ saved [436956]\n",
      "\n",
      "Archive:  lexesp.zip\n",
      "  End-of-central-directory signature not found.  Either this file is not\n",
      "  a zipfile, or it constitutes one disk of a multi-part archive.  In the\n",
      "  latter case the central directory and zipfile comment will be found on\n",
      "  the last disk(s) of this archive.\n",
      "unzip:  cannot find zipfile directory in one of lexesp.zip or\n",
      "        lexesp.zip.zip, and cannot find lexesp.zip.ZIP, period.\n"
     ]
    }
   ],
   "source": [
    "#Cargar el corpus LexEsp \n",
    "\n",
    "\n",
    "\n",
    "\n"
   ]
  }
 ],
 "metadata": {
  "kernelspec": {
   "display_name": "Python 3 (ipykernel)",
   "language": "python",
   "name": "python3"
  },
  "language_info": {
   "codemirror_mode": {
    "name": "ipython",
    "version": 3
   },
   "file_extension": ".py",
   "mimetype": "text/x-python",
   "name": "python",
   "nbconvert_exporter": "python",
   "pygments_lexer": "ipython3",
   "version": "3.10.4"
  },
  "orig_nbformat": 4
 },
 "nbformat": 4,
 "nbformat_minor": 2
}
