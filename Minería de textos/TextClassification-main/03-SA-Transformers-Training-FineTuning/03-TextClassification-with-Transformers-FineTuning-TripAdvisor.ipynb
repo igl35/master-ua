{
  "cells": [
    {
      "cell_type": "markdown",
      "metadata": {
        "colab_type": "text",
        "id": "view-in-github"
      },
      "source": [
        "<a href=\"https://colab.research.google.com/github/TeachingTextMining/TextClassification/blob/main/03-SA-Transformers-Training-FineTuning/03-TextClassification-with-Transformers-FineTuning-Reviews.ipynb\" target=\"_parent\"><img src=\"https://colab.research.google.com/assets/colab-badge.svg\" alt=\"Open In Colab\"/></a>"
      ]
    },
    {
      "cell_type": "markdown",
      "metadata": {
        "id": "9pOlP10M0DBB"
      },
      "source": [
        "## Clasificación de textos utilizando Transformers. Entrenando nuestro propio modelo\n",
        "\n",
        "\n",
        "La clasificación de textos consiste en, dado un texto, asignarle una entre varias categorías. Algunos ejemplos de esta tarea son:\n",
        "\n",
        "- dado un tweet, categorizar su connotación como positiva, negativa o neutra.\n",
        "- dado un post de Facebook, clasificarlo como portador de un lenguaje ofensivo o no.  \n",
        "\n",
        "En la figura se muestra una arquitectura típica de un sistema de aprendizaje automático para resolver esta tarea.\n",
        "\n",
        "![model-architecture-small.png =10x10](data:image/png;base64,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)\n",
        "\n",
        "En la actividad exploraremos cómo utilizar la librería [Transformers](https://huggingface.co/transformers/) para construir este modelo y entrenarlo para clasificar reviews de [IMDB](https://www.imdb.com/) sobre películas en las categorías \\[$positive$, $negative$\\]. \n",
        "\n",
        "Puede encontrar más información sobre este problema en [Kaggle](https://www.kaggle.com/lakshmi25npathi/imdb-dataset-of-50k-movie-reviews) y en [Large Movie Review Datase](http://ai.stanford.edu/~amaas/data/sentiment/). También consultar el tutorial sobre [Fine-tunning de modelos](https://huggingface.co/docs/transformers/training) en la web del proyecto  Transformers.\n",
        "\n",
        "**Instrucciones:**\n",
        "\n",
        "- siga las indicaciones y comentarios en cada apartado.\n",
        "\n",
        "\n",
        "**Después de esta actividad nos habremos familiarizado con:**\n",
        "\n",
        "- la arquitectura de un modelo para clasificar textos basado en Transformers.\n",
        "\n",
        "- el re-entrenamiento de modelos para la clasificación de secuencias.\n",
        "\n",
        "- aspectos importantes a tener en cuenta como el formato de los datos para entrenar y realizar nuevas predicciones.\n",
        "\n",
        "**Requerimientos**\n",
        "- python 3.6.12 - 3.8\n",
        "- tensorflow==2.3.0\n",
        "- transformers==4.2.1\n",
        "- pandas==1.1.5\n",
        "- plotly==4.13.0\n",
        "- tqdm==4.56.0\n",
        "- scikit-learn==0.24.0\n",
        "\n",
        "**Note que:** en dependencia del entorno de ejecución, puede ser necesario instalar manualmente alguno de estos paquetes.\n",
        "\n"
      ]
    },
    {
      "cell_type": "markdown",
      "metadata": {
        "id": "e3XEbmh7WL96"
      },
      "source": [
        "<a name=\"sec:setup\"></a>\n",
        "### Instalación de librerías e importación de dependencias.\n",
        "\n",
        "Para comenzar, es preciso instalar las dependencias, realizar los imports necesarios y definir algunas funciones auxiliares.\n",
        "\n",
        "Ejecute las siguientes casillas prestando atención a las instrucciones adicionales en los comentarios."
      ]
    },
    {
      "cell_type": "code",
      "execution_count": 1,
      "metadata": {
        "id": "jmn-i8APWMjm"
      },
      "outputs": [
        {
          "name": "stdout",
          "output_type": "stream",
          "text": [
            "Requirement already satisfied: transformers==4.26.0 in c:\\users\\izangale\\appdata\\local\\packages\\pythonsoftwarefoundation.python.3.10_qbz5n2kfra8p0\\localcache\\local-packages\\python310\\site-packages (4.26.0)\n",
            "Requirement already satisfied: filelock in c:\\users\\izangale\\appdata\\local\\packages\\pythonsoftwarefoundation.python.3.10_qbz5n2kfra8p0\\localcache\\local-packages\\python310\\site-packages (from transformers==4.26.0) (3.9.0)\n",
            "Requirement already satisfied: pyyaml>=5.1 in c:\\users\\izangale\\appdata\\local\\packages\\pythonsoftwarefoundation.python.3.10_qbz5n2kfra8p0\\localcache\\local-packages\\python310\\site-packages (from transformers==4.26.0) (6.0)\n",
            "Requirement already satisfied: tqdm>=4.27 in c:\\users\\izangale\\appdata\\local\\packages\\pythonsoftwarefoundation.python.3.10_qbz5n2kfra8p0\\localcache\\local-packages\\python310\\site-packages (from transformers==4.26.0) (4.64.1)\n",
            "Requirement already satisfied: huggingface-hub<1.0,>=0.11.0 in c:\\users\\izangale\\appdata\\local\\packages\\pythonsoftwarefoundation.python.3.10_qbz5n2kfra8p0\\localcache\\local-packages\\python310\\site-packages (from transformers==4.26.0) (0.12.1)\n",
            "Requirement already satisfied: numpy>=1.17 in c:\\users\\izangale\\appdata\\local\\packages\\pythonsoftwarefoundation.python.3.10_qbz5n2kfra8p0\\localcache\\local-packages\\python310\\site-packages (from transformers==4.26.0) (1.24.2)\n",
            "Requirement already satisfied: regex!=2019.12.17 in c:\\users\\izangale\\appdata\\local\\packages\\pythonsoftwarefoundation.python.3.10_qbz5n2kfra8p0\\localcache\\local-packages\\python310\\site-packages (from transformers==4.26.0) (2022.10.31)\n",
            "Requirement already satisfied: tokenizers!=0.11.3,<0.14,>=0.11.1 in c:\\users\\izangale\\appdata\\local\\packages\\pythonsoftwarefoundation.python.3.10_qbz5n2kfra8p0\\localcache\\local-packages\\python310\\site-packages (from transformers==4.26.0) (0.13.2)\n",
            "Requirement already satisfied: requests in c:\\users\\izangale\\appdata\\local\\packages\\pythonsoftwarefoundation.python.3.10_qbz5n2kfra8p0\\localcache\\local-packages\\python310\\site-packages (from transformers==4.26.0) (2.28.2)\n",
            "Requirement already satisfied: packaging>=20.0 in c:\\users\\izangale\\appdata\\local\\packages\\pythonsoftwarefoundation.python.3.10_qbz5n2kfra8p0\\localcache\\local-packages\\python310\\site-packages (from transformers==4.26.0) (23.0)\n",
            "Requirement already satisfied: typing-extensions>=3.7.4.3 in c:\\users\\izangale\\appdata\\local\\packages\\pythonsoftwarefoundation.python.3.10_qbz5n2kfra8p0\\localcache\\local-packages\\python310\\site-packages (from huggingface-hub<1.0,>=0.11.0->transformers==4.26.0) (4.5.0)\n",
            "Requirement already satisfied: colorama in c:\\users\\izangale\\appdata\\local\\packages\\pythonsoftwarefoundation.python.3.10_qbz5n2kfra8p0\\localcache\\local-packages\\python310\\site-packages (from tqdm>=4.27->transformers==4.26.0) (0.4.6)\n",
            "Requirement already satisfied: charset-normalizer<4,>=2 in c:\\users\\izangale\\appdata\\local\\packages\\pythonsoftwarefoundation.python.3.10_qbz5n2kfra8p0\\localcache\\local-packages\\python310\\site-packages (from requests->transformers==4.26.0) (3.0.1)\n",
            "Requirement already satisfied: idna<4,>=2.5 in c:\\users\\izangale\\appdata\\local\\packages\\pythonsoftwarefoundation.python.3.10_qbz5n2kfra8p0\\localcache\\local-packages\\python310\\site-packages (from requests->transformers==4.26.0) (3.4)\n",
            "Requirement already satisfied: certifi>=2017.4.17 in c:\\users\\izangale\\appdata\\local\\packages\\pythonsoftwarefoundation.python.3.10_qbz5n2kfra8p0\\localcache\\local-packages\\python310\\site-packages (from requests->transformers==4.26.0) (2022.12.7)\n",
            "Requirement already satisfied: urllib3<1.27,>=1.21.1 in c:\\users\\izangale\\appdata\\local\\packages\\pythonsoftwarefoundation.python.3.10_qbz5n2kfra8p0\\localcache\\local-packages\\python310\\site-packages (from requests->transformers==4.26.0) (1.26.14)\n",
            "Requirement already satisfied: tensorflow==2.11 in c:\\users\\izangale\\appdata\\local\\packages\\pythonsoftwarefoundation.python.3.10_qbz5n2kfra8p0\\localcache\\local-packages\\python310\\site-packages (2.11.0)\n",
            "Requirement already satisfied: tensorflow-intel==2.11.0 in c:\\users\\izangale\\appdata\\local\\packages\\pythonsoftwarefoundation.python.3.10_qbz5n2kfra8p0\\localcache\\local-packages\\python310\\site-packages (from tensorflow==2.11) (2.11.0)\n",
            "Requirement already satisfied: grpcio<2.0,>=1.24.3 in c:\\users\\izangale\\appdata\\local\\packages\\pythonsoftwarefoundation.python.3.10_qbz5n2kfra8p0\\localcache\\local-packages\\python310\\site-packages (from tensorflow-intel==2.11.0->tensorflow==2.11) (1.51.3)\n",
            "Requirement already satisfied: tensorflow-estimator<2.12,>=2.11.0 in c:\\users\\izangale\\appdata\\local\\packages\\pythonsoftwarefoundation.python.3.10_qbz5n2kfra8p0\\localcache\\local-packages\\python310\\site-packages (from tensorflow-intel==2.11.0->tensorflow==2.11) (2.11.0)\n",
            "Requirement already satisfied: keras<2.12,>=2.11.0 in c:\\users\\izangale\\appdata\\local\\packages\\pythonsoftwarefoundation.python.3.10_qbz5n2kfra8p0\\localcache\\local-packages\\python310\\site-packages (from tensorflow-intel==2.11.0->tensorflow==2.11) (2.11.0)\n",
            "Requirement already satisfied: tensorboard<2.12,>=2.11 in c:\\users\\izangale\\appdata\\local\\packages\\pythonsoftwarefoundation.python.3.10_qbz5n2kfra8p0\\localcache\\local-packages\\python310\\site-packages (from tensorflow-intel==2.11.0->tensorflow==2.11) (2.11.2)\n",
            "Requirement already satisfied: wrapt>=1.11.0 in c:\\users\\izangale\\appdata\\local\\packages\\pythonsoftwarefoundation.python.3.10_qbz5n2kfra8p0\\localcache\\local-packages\\python310\\site-packages (from tensorflow-intel==2.11.0->tensorflow==2.11) (1.14.1)\n",
            "Requirement already satisfied: flatbuffers>=2.0 in c:\\users\\izangale\\appdata\\local\\packages\\pythonsoftwarefoundation.python.3.10_qbz5n2kfra8p0\\localcache\\local-packages\\python310\\site-packages (from tensorflow-intel==2.11.0->tensorflow==2.11) (23.1.21)\n",
            "Requirement already satisfied: tensorflow-io-gcs-filesystem>=0.23.1 in c:\\users\\izangale\\appdata\\local\\packages\\pythonsoftwarefoundation.python.3.10_qbz5n2kfra8p0\\localcache\\local-packages\\python310\\site-packages (from tensorflow-intel==2.11.0->tensorflow==2.11) (0.30.0)\n",
            "Requirement already satisfied: gast<=0.4.0,>=0.2.1 in c:\\users\\izangale\\appdata\\local\\packages\\pythonsoftwarefoundation.python.3.10_qbz5n2kfra8p0\\localcache\\local-packages\\python310\\site-packages (from tensorflow-intel==2.11.0->tensorflow==2.11) (0.4.0)\n",
            "Requirement already satisfied: h5py>=2.9.0 in c:\\users\\izangale\\appdata\\local\\packages\\pythonsoftwarefoundation.python.3.10_qbz5n2kfra8p0\\localcache\\local-packages\\python310\\site-packages (from tensorflow-intel==2.11.0->tensorflow==2.11) (3.8.0)\n",
            "Requirement already satisfied: packaging in c:\\users\\izangale\\appdata\\local\\packages\\pythonsoftwarefoundation.python.3.10_qbz5n2kfra8p0\\localcache\\local-packages\\python310\\site-packages (from tensorflow-intel==2.11.0->tensorflow==2.11) (23.0)\n",
            "Requirement already satisfied: opt-einsum>=2.3.2 in c:\\users\\izangale\\appdata\\local\\packages\\pythonsoftwarefoundation.python.3.10_qbz5n2kfra8p0\\localcache\\local-packages\\python310\\site-packages (from tensorflow-intel==2.11.0->tensorflow==2.11) (3.3.0)\n",
            "Requirement already satisfied: six>=1.12.0 in c:\\users\\izangale\\appdata\\local\\packages\\pythonsoftwarefoundation.python.3.10_qbz5n2kfra8p0\\localcache\\local-packages\\python310\\site-packages (from tensorflow-intel==2.11.0->tensorflow==2.11) (1.16.0)\n",
            "Requirement already satisfied: absl-py>=1.0.0 in c:\\users\\izangale\\appdata\\local\\packages\\pythonsoftwarefoundation.python.3.10_qbz5n2kfra8p0\\localcache\\local-packages\\python310\\site-packages (from tensorflow-intel==2.11.0->tensorflow==2.11) (1.4.0)\n",
            "Requirement already satisfied: termcolor>=1.1.0 in c:\\users\\izangale\\appdata\\local\\packages\\pythonsoftwarefoundation.python.3.10_qbz5n2kfra8p0\\localcache\\local-packages\\python310\\site-packages (from tensorflow-intel==2.11.0->tensorflow==2.11) (2.2.0)\n",
            "Requirement already satisfied: typing-extensions>=3.6.6 in c:\\users\\izangale\\appdata\\local\\packages\\pythonsoftwarefoundation.python.3.10_qbz5n2kfra8p0\\localcache\\local-packages\\python310\\site-packages (from tensorflow-intel==2.11.0->tensorflow==2.11) (4.5.0)\n",
            "Requirement already satisfied: setuptools in c:\\program files\\windowsapps\\pythonsoftwarefoundation.python.3.10_3.10.2800.0_x64__qbz5n2kfra8p0\\lib\\site-packages (from tensorflow-intel==2.11.0->tensorflow==2.11) (65.5.0)\n",
            "Requirement already satisfied: astunparse>=1.6.0 in c:\\users\\izangale\\appdata\\local\\packages\\pythonsoftwarefoundation.python.3.10_qbz5n2kfra8p0\\localcache\\local-packages\\python310\\site-packages (from tensorflow-intel==2.11.0->tensorflow==2.11) (1.6.3)\n",
            "Requirement already satisfied: google-pasta>=0.1.1 in c:\\users\\izangale\\appdata\\local\\packages\\pythonsoftwarefoundation.python.3.10_qbz5n2kfra8p0\\localcache\\local-packages\\python310\\site-packages (from tensorflow-intel==2.11.0->tensorflow==2.11) (0.2.0)\n",
            "Requirement already satisfied: libclang>=13.0.0 in c:\\users\\izangale\\appdata\\local\\packages\\pythonsoftwarefoundation.python.3.10_qbz5n2kfra8p0\\localcache\\local-packages\\python310\\site-packages (from tensorflow-intel==2.11.0->tensorflow==2.11) (15.0.6.1)\n",
            "Requirement already satisfied: numpy>=1.20 in c:\\users\\izangale\\appdata\\local\\packages\\pythonsoftwarefoundation.python.3.10_qbz5n2kfra8p0\\localcache\\local-packages\\python310\\site-packages (from tensorflow-intel==2.11.0->tensorflow==2.11) (1.24.2)\n",
            "Requirement already satisfied: protobuf<3.20,>=3.9.2 in c:\\users\\izangale\\appdata\\local\\packages\\pythonsoftwarefoundation.python.3.10_qbz5n2kfra8p0\\localcache\\local-packages\\python310\\site-packages (from tensorflow-intel==2.11.0->tensorflow==2.11) (3.19.6)\n",
            "Requirement already satisfied: wheel<1.0,>=0.23.0 in c:\\users\\izangale\\appdata\\local\\packages\\pythonsoftwarefoundation.python.3.10_qbz5n2kfra8p0\\localcache\\local-packages\\python310\\site-packages (from astunparse>=1.6.0->tensorflow-intel==2.11.0->tensorflow==2.11) (0.38.4)\n",
            "Requirement already satisfied: google-auth-oauthlib<0.5,>=0.4.1 in c:\\users\\izangale\\appdata\\local\\packages\\pythonsoftwarefoundation.python.3.10_qbz5n2kfra8p0\\localcache\\local-packages\\python310\\site-packages (from tensorboard<2.12,>=2.11->tensorflow-intel==2.11.0->tensorflow==2.11) (0.4.6)\n",
            "Requirement already satisfied: google-auth<3,>=1.6.3 in c:\\users\\izangale\\appdata\\local\\packages\\pythonsoftwarefoundation.python.3.10_qbz5n2kfra8p0\\localcache\\local-packages\\python310\\site-packages (from tensorboard<2.12,>=2.11->tensorflow-intel==2.11.0->tensorflow==2.11) (2.16.1)\n",
            "Requirement already satisfied: markdown>=2.6.8 in c:\\users\\izangale\\appdata\\local\\packages\\pythonsoftwarefoundation.python.3.10_qbz5n2kfra8p0\\localcache\\local-packages\\python310\\site-packages (from tensorboard<2.12,>=2.11->tensorflow-intel==2.11.0->tensorflow==2.11) (3.4.1)\n",
            "Requirement already satisfied: werkzeug>=1.0.1 in c:\\users\\izangale\\appdata\\local\\packages\\pythonsoftwarefoundation.python.3.10_qbz5n2kfra8p0\\localcache\\local-packages\\python310\\site-packages (from tensorboard<2.12,>=2.11->tensorflow-intel==2.11.0->tensorflow==2.11) (2.2.3)\n",
            "Requirement already satisfied: tensorboard-data-server<0.7.0,>=0.6.0 in c:\\users\\izangale\\appdata\\local\\packages\\pythonsoftwarefoundation.python.3.10_qbz5n2kfra8p0\\localcache\\local-packages\\python310\\site-packages (from tensorboard<2.12,>=2.11->tensorflow-intel==2.11.0->tensorflow==2.11) (0.6.1)\n",
            "Requirement already satisfied: tensorboard-plugin-wit>=1.6.0 in c:\\users\\izangale\\appdata\\local\\packages\\pythonsoftwarefoundation.python.3.10_qbz5n2kfra8p0\\localcache\\local-packages\\python310\\site-packages (from tensorboard<2.12,>=2.11->tensorflow-intel==2.11.0->tensorflow==2.11) (1.8.1)\n",
            "Requirement already satisfied: requests<3,>=2.21.0 in c:\\users\\izangale\\appdata\\local\\packages\\pythonsoftwarefoundation.python.3.10_qbz5n2kfra8p0\\localcache\\local-packages\\python310\\site-packages (from tensorboard<2.12,>=2.11->tensorflow-intel==2.11.0->tensorflow==2.11) (2.28.2)\n",
            "Requirement already satisfied: rsa<5,>=3.1.4 in c:\\users\\izangale\\appdata\\local\\packages\\pythonsoftwarefoundation.python.3.10_qbz5n2kfra8p0\\localcache\\local-packages\\python310\\site-packages (from google-auth<3,>=1.6.3->tensorboard<2.12,>=2.11->tensorflow-intel==2.11.0->tensorflow==2.11) (4.9)\n",
            "Requirement already satisfied: cachetools<6.0,>=2.0.0 in c:\\users\\izangale\\appdata\\local\\packages\\pythonsoftwarefoundation.python.3.10_qbz5n2kfra8p0\\localcache\\local-packages\\python310\\site-packages (from google-auth<3,>=1.6.3->tensorboard<2.12,>=2.11->tensorflow-intel==2.11.0->tensorflow==2.11) (5.3.0)\n",
            "Requirement already satisfied: pyasn1-modules>=0.2.1 in c:\\users\\izangale\\appdata\\local\\packages\\pythonsoftwarefoundation.python.3.10_qbz5n2kfra8p0\\localcache\\local-packages\\python310\\site-packages (from google-auth<3,>=1.6.3->tensorboard<2.12,>=2.11->tensorflow-intel==2.11.0->tensorflow==2.11) (0.2.8)\n",
            "Requirement already satisfied: requests-oauthlib>=0.7.0 in c:\\users\\izangale\\appdata\\local\\packages\\pythonsoftwarefoundation.python.3.10_qbz5n2kfra8p0\\localcache\\local-packages\\python310\\site-packages (from google-auth-oauthlib<0.5,>=0.4.1->tensorboard<2.12,>=2.11->tensorflow-intel==2.11.0->tensorflow==2.11) (1.3.1)\n",
            "Requirement already satisfied: charset-normalizer<4,>=2 in c:\\users\\izangale\\appdata\\local\\packages\\pythonsoftwarefoundation.python.3.10_qbz5n2kfra8p0\\localcache\\local-packages\\python310\\site-packages (from requests<3,>=2.21.0->tensorboard<2.12,>=2.11->tensorflow-intel==2.11.0->tensorflow==2.11) (3.0.1)\n",
            "Requirement already satisfied: urllib3<1.27,>=1.21.1 in c:\\users\\izangale\\appdata\\local\\packages\\pythonsoftwarefoundation.python.3.10_qbz5n2kfra8p0\\localcache\\local-packages\\python310\\site-packages (from requests<3,>=2.21.0->tensorboard<2.12,>=2.11->tensorflow-intel==2.11.0->tensorflow==2.11) (1.26.14)\n",
            "Requirement already satisfied: certifi>=2017.4.17 in c:\\users\\izangale\\appdata\\local\\packages\\pythonsoftwarefoundation.python.3.10_qbz5n2kfra8p0\\localcache\\local-packages\\python310\\site-packages (from requests<3,>=2.21.0->tensorboard<2.12,>=2.11->tensorflow-intel==2.11.0->tensorflow==2.11) (2022.12.7)\n",
            "Requirement already satisfied: idna<4,>=2.5 in c:\\users\\izangale\\appdata\\local\\packages\\pythonsoftwarefoundation.python.3.10_qbz5n2kfra8p0\\localcache\\local-packages\\python310\\site-packages (from requests<3,>=2.21.0->tensorboard<2.12,>=2.11->tensorflow-intel==2.11.0->tensorflow==2.11) (3.4)\n",
            "Requirement already satisfied: MarkupSafe>=2.1.1 in c:\\users\\izangale\\appdata\\local\\packages\\pythonsoftwarefoundation.python.3.10_qbz5n2kfra8p0\\localcache\\local-packages\\python310\\site-packages (from werkzeug>=1.0.1->tensorboard<2.12,>=2.11->tensorflow-intel==2.11.0->tensorflow==2.11) (2.1.2)\n",
            "Requirement already satisfied: pyasn1<0.5.0,>=0.4.6 in c:\\users\\izangale\\appdata\\local\\packages\\pythonsoftwarefoundation.python.3.10_qbz5n2kfra8p0\\localcache\\local-packages\\python310\\site-packages (from pyasn1-modules>=0.2.1->google-auth<3,>=1.6.3->tensorboard<2.12,>=2.11->tensorflow-intel==2.11.0->tensorflow==2.11) (0.4.8)\n",
            "Requirement already satisfied: oauthlib>=3.0.0 in c:\\users\\izangale\\appdata\\local\\packages\\pythonsoftwarefoundation.python.3.10_qbz5n2kfra8p0\\localcache\\local-packages\\python310\\site-packages (from requests-oauthlib>=0.7.0->google-auth-oauthlib<0.5,>=0.4.1->tensorboard<2.12,>=2.11->tensorflow-intel==2.11.0->tensorflow==2.11) (3.2.2)\n",
            "Requirement already satisfied: pandas==1.3.5 in c:\\users\\izangale\\appdata\\local\\packages\\pythonsoftwarefoundation.python.3.10_qbz5n2kfra8p0\\localcache\\local-packages\\python310\\site-packages (1.3.5)\n",
            "Requirement already satisfied: pytz>=2017.3 in c:\\users\\izangale\\appdata\\local\\packages\\pythonsoftwarefoundation.python.3.10_qbz5n2kfra8p0\\localcache\\local-packages\\python310\\site-packages (from pandas==1.3.5) (2022.7.1)\n",
            "Requirement already satisfied: numpy>=1.21.0 in c:\\users\\izangale\\appdata\\local\\packages\\pythonsoftwarefoundation.python.3.10_qbz5n2kfra8p0\\localcache\\local-packages\\python310\\site-packages (from pandas==1.3.5) (1.24.2)\n",
            "Requirement already satisfied: python-dateutil>=2.7.3 in c:\\users\\izangale\\appdata\\local\\packages\\pythonsoftwarefoundation.python.3.10_qbz5n2kfra8p0\\localcache\\local-packages\\python310\\site-packages (from pandas==1.3.5) (2.8.2)\n",
            "Requirement already satisfied: six>=1.5 in c:\\users\\izangale\\appdata\\local\\packages\\pythonsoftwarefoundation.python.3.10_qbz5n2kfra8p0\\localcache\\local-packages\\python310\\site-packages (from python-dateutil>=2.7.3->pandas==1.3.5) (1.16.0)\n",
            "Requirement already satisfied: plotly==5.5.0 in c:\\users\\izangale\\appdata\\local\\packages\\pythonsoftwarefoundation.python.3.10_qbz5n2kfra8p0\\localcache\\local-packages\\python310\\site-packages (5.5.0)\n",
            "Requirement already satisfied: six in c:\\users\\izangale\\appdata\\local\\packages\\pythonsoftwarefoundation.python.3.10_qbz5n2kfra8p0\\localcache\\local-packages\\python310\\site-packages (from plotly==5.5.0) (1.16.0)\n",
            "Requirement already satisfied: tenacity>=6.2.0 in c:\\users\\izangale\\appdata\\local\\packages\\pythonsoftwarefoundation.python.3.10_qbz5n2kfra8p0\\localcache\\local-packages\\python310\\site-packages (from plotly==5.5.0) (8.2.1)\n",
            "Requirement already satisfied: scikit-learn==1.0.0 in c:\\users\\izangale\\appdata\\local\\packages\\pythonsoftwarefoundation.python.3.10_qbz5n2kfra8p0\\localcache\\local-packages\\python310\\site-packages (1.0)\n",
            "Requirement already satisfied: numpy>=1.14.6 in c:\\users\\izangale\\appdata\\local\\packages\\pythonsoftwarefoundation.python.3.10_qbz5n2kfra8p0\\localcache\\local-packages\\python310\\site-packages (from scikit-learn==1.0.0) (1.24.2)\n",
            "Requirement already satisfied: joblib>=0.11 in c:\\users\\izangale\\appdata\\local\\packages\\pythonsoftwarefoundation.python.3.10_qbz5n2kfra8p0\\localcache\\local-packages\\python310\\site-packages (from scikit-learn==1.0.0) (1.2.0)\n",
            "Requirement already satisfied: scipy>=1.1.0 in c:\\users\\izangale\\appdata\\local\\packages\\pythonsoftwarefoundation.python.3.10_qbz5n2kfra8p0\\localcache\\local-packages\\python310\\site-packages (from scikit-learn==1.0.0) (1.10.1)\n",
            "Requirement already satisfied: threadpoolctl>=2.0.0 in c:\\users\\izangale\\appdata\\local\\packages\\pythonsoftwarefoundation.python.3.10_qbz5n2kfra8p0\\localcache\\local-packages\\python310\\site-packages (from scikit-learn==1.0.0) (3.1.0)\n",
            "Done!\n"
          ]
        }
      ],
      "source": [
        "# instalar librerías. Esta casilla es últil por ejemplo si se ejecuta el cuaderno en Google Colab\n",
        "# Note que existen otras dependencias como tensorflow, etc. que en este caso se encontrarían ya instaladas\n",
        "#%%capture\n",
        "!pip install transformers==4.26.0 \n",
        "!pip install tensorflow==2.11 \n",
        "!pip install pandas==1.3.5 \n",
        "!pip install plotly==5.5.0 \n",
        "!pip install scikit-learn==1.0.0\n",
        "\n",
        "print('Done!')"
      ]
    },
    {
      "cell_type": "code",
      "execution_count": 2,
      "metadata": {
        "id": "J0pI1gnw0DBF"
      },
      "outputs": [
        {
          "name": "stdout",
          "output_type": "stream",
          "text": [
            "Done!\n"
          ]
        }
      ],
      "source": [
        "# reset environment\n",
        "#%reset -f\n",
        "\n",
        "# para establecer caminos al guardar y leer archivos\n",
        "import os\n",
        "\n",
        "# para cargar datos y realizar pre-procesamiento básico\n",
        "import pandas as pd\n",
        "from collections import Counter\n",
        "from sklearn import preprocessing\n",
        "from sklearn.utils.class_weight import compute_class_weight\n",
        "\n",
        "# para evaluar los modelos \n",
        "from sklearn.model_selection import train_test_split\n",
        "from sklearn.metrics import accuracy_score, classification_report, confusion_matrix, ConfusionMatrixDisplay, roc_curve, auc\n",
        "from sklearn.utils.multiclass import unique_labels\n",
        "\n",
        "#  para construir gráficas y realizar análisis exploratorio de los datos\n",
        "import plotly.graph_objects as go\n",
        "import plotly.figure_factory as ff\n",
        "import plotly.express as px\n",
        "from tqdm import tqdm\n",
        "\n",
        "# para guardar el modelo\n",
        "import pickle\n",
        "import tensorflow as tf\n",
        "\n",
        "# algoritmos de clasificación, tokenizadores, etc.\n",
        "from transformers import DistilBertTokenizer, TFDistilBertForSequenceClassification, DistilBertConfig, TextClassificationPipeline\n",
        "\n",
        "print('Done!')"
      ]
    },
    {
      "cell_type": "code",
      "execution_count": 3,
      "metadata": {
        "id": "L3G3KQUyXSUg"
      },
      "outputs": [
        {
          "name": "stdout",
          "output_type": "stream",
          "text": [
            "Done!\n"
          ]
        }
      ],
      "source": [
        "# función auxiliar para obtener tensores de entrada al modelo a partir del texto\n",
        "def get_model_inputs(cfg, data):\n",
        "    # obtener ids y máscaras para el conjunto de entrenamiento\n",
        "    # no es necesario convertir a tensores porque la salida del tokenizador se encuentra en este formato, \n",
        "    encodings = cfg['tokenizer'](data, truncation=True, padding='max_length', max_length=cfg['max_length'], return_tensors=cfg['framework'])\n",
        "\n",
        "    # formatear los datos (tensores) de entrada de acuerdo con las opciones permitidas por TensorFlow\n",
        "    # los nombres de las capas de Input creadas al construir el modelo ('input_ids', 'attention_mask', 'tfidf') \n",
        "    # son utilizados como llaves en los diccionarios que representan las entradas al modelo\n",
        "    inputs = {'input_ids': encodings['input_ids'],\n",
        "            'attention_mask': encodings['attention_mask']\n",
        "            }\n",
        "    return inputs\n",
        "\n",
        "# función auxiliar para realizar predicciones con el modelo\n",
        "def predict_model(model, cfg, data, pref='m'):\n",
        "  \"\"\"\n",
        "  data: list of the text to predict\n",
        "  pref: identificador para las columnas (labels_[pref], scores_[pref]_[class 1], etc.)\n",
        "  \"\"\"\n",
        "  res = {}\n",
        "  inputs = get_model_inputs(cfg, data)\n",
        "  scores = model.predict(inputs)['logits']  # la salida de este modelo es TFSequenceClassifierOutput, debe tomarse el valor asociado a la llave 'logits'\n",
        "  \n",
        "  # empaquetar scores dentro de un diccionario que contiene labels, scores clase 1, scores clase 2, .... El nombre de la clase se normaliza a lowercase\n",
        "  if cfg['num_labels']==1: # si es clasificación binaria, este modelo devuelve solo 1 score por instancia\n",
        "    res = {f'scores_{pref}': scores[:,0]}\n",
        "  else:\n",
        "    res = {f'scores_{pref}_{cls.lower()}': score for cls, score in zip(cfg['label_binarizer'].classes_, [col for col in scores.T])}\n",
        "\n",
        "  # añadir datos relativos a la predicción\n",
        "  labels = cfg['label_binarizer'].inverse_transform(scores)\n",
        "  res[f'labels_{pref}'] = labels\n",
        "\n",
        "  # convertir a dataframe ordenando las columnas primero el label y luego los scores por clase, las clases ordenadas alfabéticamente\n",
        "  res = pd.DataFrame(res, columns=sorted(list(res.keys())))\n",
        "  return res\n",
        "\n",
        "\n",
        "# función auxiliar que evalúa los resultados de una clasificación\n",
        "def evaluate_model(y_true, y_pred, y_score=None, pos_label='positive'):\n",
        "  print('==== Sumario de la clasificación ==== ')\n",
        "  print(classification_report(y_true, y_pred))\n",
        "\n",
        "  print('Accuracy -> {:.2%}\\n'.format(accuracy_score(y_true, y_pred)))\n",
        "\n",
        "  # graficar matriz de confusión\n",
        "  display_labels = sorted(unique_labels(y_true, y_pred), reverse=True)\n",
        "  cm = confusion_matrix(y_true, y_pred, labels=display_labels)\n",
        "\n",
        "  z = cm[::-1]\n",
        "  x = display_labels\n",
        "  y =  x[::-1].copy()\n",
        "  z_text = [[str(y) for y in x] for x in z]\n",
        "\n",
        "  fig_cm = ff.create_annotated_heatmap(z, x=x, y=y, annotation_text=z_text, colorscale='Viridis')\n",
        "\n",
        "  fig_cm.update_layout(\n",
        "      height=400, width=400,\n",
        "      showlegend=True,\n",
        "      margin={'t':150, 'l':0},\n",
        "      title={'text' : 'Matriz de Confusión', 'x':0.5, 'y':0.95, 'xanchor': 'center'},\n",
        "      xaxis = {'title_text':'Valor Real', 'tickangle':45, 'side':'top'},\n",
        "      yaxis = {'title_text':'Valor Predicho', 'tickmode':'linear'},\n",
        "  )\n",
        "  fig_cm.show()\n",
        "\n",
        "\n",
        "  # curva roc (definido para clasificación binaria)\n",
        "  fig_roc = None\n",
        "  if y_score is not None:\n",
        "    fpr, tpr, thresholds = roc_curve(y_true, y_score, pos_label=pos_label)\n",
        "    fig_roc = px.area(\n",
        "        x=fpr, y=tpr,\n",
        "        title = f'Curva ROC (AUC={auc(fpr, tpr):.4f})',\n",
        "        labels=dict(x='Ratio Falsos Positivos', y='Ratio Verdaderos Positivos'),\n",
        "        width=400, height=400\n",
        "    )\n",
        "    fig_roc.add_shape(type='line', line=dict(dash='dash'), x0=0, x1=1, y0=0, y1=1)\n",
        "\n",
        "    fig_roc.update_yaxes(scaleanchor=\"x\", scaleratio=1)\n",
        "    fig_roc.update_xaxes(constrain='domain')\n",
        "    \n",
        "    fig_roc.show()\n",
        "\n",
        "print('Done!')"
      ]
    },
    {
      "cell_type": "markdown",
      "metadata": {
        "id": "60mgkkJJJTGi"
      },
      "source": [
        "### Carga de datos y análisis exploratorio\n",
        "\n",
        "El primer paso consiste en obtener los datos relacionados con nuestra tarea dejándolos en el formato adecuado.  Existen diferentes opciones, entre estas:\n",
        "\n",
        "- montar nuestra partición de Google Drive y leer un fichero desde esta.\n",
        "\n",
        "- leer los datos desde un fichero en una carpeta local.\n",
        "\n",
        "- leer los datos directamente de un URL.\n",
        "\n",
        "En este caso, se encuentran en un fichero separado por comas con la siguiente estructura:\n",
        "\n",
        "| Phrase | Sentiment| \n",
        "| ------ | ------ |\n",
        "| This movie is really not all that bad...    | positive |\n",
        "\n",
        "\n",
        "Ejecute la siguiente casilla para leer los datos.\n",
        "\n"
      ]
    },
    {
      "cell_type": "code",
      "execution_count": 4,
      "metadata": {
        "id": "JcOrYqNEkQei"
      },
      "outputs": [
        {
          "name": "stdout",
          "output_type": "stream",
          "text": [
            "Done!\n"
          ]
        }
      ],
      "source": [
        "# descomente las siguientes 3 líneas para leer datos desde Google Drive, asumiendo que se trata de un fichero llamado review.csv localizado dentro de una carpeta llamada 'Datos' en su Google Drive\n",
        "#from google.colab import drive\n",
        "#drive.mount('/content/drive')\n",
        "#path = '/content/drive/MyDrive/Datos/ejemplo_review_train.csv'\n",
        "\n",
        "# descomente la siguiente línea para leer los datos desde un archivo local, por ejemplo, asumiendo que se encuentra dentro de un directorio llamado sample_data\n",
        "#path = './sample_data/ejemplo_review_train.csv'\n",
        "\n",
        "# descomente la siguiente línea para leer datos desde un URL\n",
        "path = 'https://github.com/TeachingTextMining/TextClassification/raw/main/03-SA-Transformers-Training-FineTuning/sample_data/ejemplo_review_train.csv'\n",
        "\n",
        "# leer los datos\n",
        "data = pd.read_csv(path, sep=',')\n",
        "\n",
        "print('Done!')"
      ]
    },
    {
      "cell_type": "markdown",
      "metadata": {
        "id": "bYMSHHzykpiu"
      },
      "source": [
        "Una vez leídos los datos, ejecute la siguiente casilla para construir una gráfica que muestra la distribución de clases en el corpus."
      ]
    },
    {
      "cell_type": "code",
      "execution_count": 5,
      "metadata": {
        "id": "FdWJKv97YVbY"
      },
      "outputs": [
        {
          "name": "stdout",
          "output_type": "stream",
          "text": [
            "Total de instancias -> 1763\n",
            "Distribución de clases:\n",
            "    negative: 0.511\n",
            "    positive: 0.489\n",
            "Categorías -> ['negative', 'positive']\n",
            "Comentario de ejemplo -> This is a great movie that everyone should see. It plays like a Dean Koontz book.<br /><br />Bill Paxton's performance was great in that it really seems like he believes in what he is saying and doing.<br /><br />I don't know why viewers have to read in some kind of advocacy for religious murder in to the film. It is fiction. The ending is surprising, but fictional. So what? I think that is what makes this movie so good. SPOILER DO NOT READ FURTHER IF YOU HAVENT SEEN THE MOVIE. Throughout the movie, the viewer is continually shocked at the sickness of Paxton's character, the impact on the children, and the way the children handle this outrageous conduct. And then at the end, it turns out to be true. God has put him on a mission to rid the world of demons. Paxton is not clairvoyant as other viewers suggest. Sure, he is given info that he couldn't have known otherwise, but the movie goes further to show how God is \"protecting\" Adam through the convenient video quality problem and the complete lack of memory of the second FBI agent. The film isn't advocating Christian murder, it is merely taking the viewer on a very unexpected ride.\n",
            "Categoría del comentario -> positive\n"
          ]
        },
        {
          "data": {
            "application/vnd.plotly.v1+json": {
              "config": {
                "plotlyServerURL": "https://plot.ly"
              },
              "data": [
                {
                  "type": "bar",
                  "x": [
                    "negative",
                    "positive"
                  ],
                  "y": [
                    901,
                    862
                  ]
                }
              ],
              "layout": {
                "height": 400,
                "template": {
                  "data": {
                    "bar": [
                      {
                        "error_x": {
                          "color": "#2a3f5f"
                        },
                        "error_y": {
                          "color": "#2a3f5f"
                        },
                        "marker": {
                          "line": {
                            "color": "#E5ECF6",
                            "width": 0.5
                          },
                          "pattern": {
                            "fillmode": "overlay",
                            "size": 10,
                            "solidity": 0.2
                          }
                        },
                        "type": "bar"
                      }
                    ],
                    "barpolar": [
                      {
                        "marker": {
                          "line": {
                            "color": "#E5ECF6",
                            "width": 0.5
                          },
                          "pattern": {
                            "fillmode": "overlay",
                            "size": 10,
                            "solidity": 0.2
                          }
                        },
                        "type": "barpolar"
                      }
                    ],
                    "carpet": [
                      {
                        "aaxis": {
                          "endlinecolor": "#2a3f5f",
                          "gridcolor": "white",
                          "linecolor": "white",
                          "minorgridcolor": "white",
                          "startlinecolor": "#2a3f5f"
                        },
                        "baxis": {
                          "endlinecolor": "#2a3f5f",
                          "gridcolor": "white",
                          "linecolor": "white",
                          "minorgridcolor": "white",
                          "startlinecolor": "#2a3f5f"
                        },
                        "type": "carpet"
                      }
                    ],
                    "choropleth": [
                      {
                        "colorbar": {
                          "outlinewidth": 0,
                          "ticks": ""
                        },
                        "type": "choropleth"
                      }
                    ],
                    "contour": [
                      {
                        "colorbar": {
                          "outlinewidth": 0,
                          "ticks": ""
                        },
                        "colorscale": [
                          [
                            0,
                            "#0d0887"
                          ],
                          [
                            0.1111111111111111,
                            "#46039f"
                          ],
                          [
                            0.2222222222222222,
                            "#7201a8"
                          ],
                          [
                            0.3333333333333333,
                            "#9c179e"
                          ],
                          [
                            0.4444444444444444,
                            "#bd3786"
                          ],
                          [
                            0.5555555555555556,
                            "#d8576b"
                          ],
                          [
                            0.6666666666666666,
                            "#ed7953"
                          ],
                          [
                            0.7777777777777778,
                            "#fb9f3a"
                          ],
                          [
                            0.8888888888888888,
                            "#fdca26"
                          ],
                          [
                            1,
                            "#f0f921"
                          ]
                        ],
                        "type": "contour"
                      }
                    ],
                    "contourcarpet": [
                      {
                        "colorbar": {
                          "outlinewidth": 0,
                          "ticks": ""
                        },
                        "type": "contourcarpet"
                      }
                    ],
                    "heatmap": [
                      {
                        "colorbar": {
                          "outlinewidth": 0,
                          "ticks": ""
                        },
                        "colorscale": [
                          [
                            0,
                            "#0d0887"
                          ],
                          [
                            0.1111111111111111,
                            "#46039f"
                          ],
                          [
                            0.2222222222222222,
                            "#7201a8"
                          ],
                          [
                            0.3333333333333333,
                            "#9c179e"
                          ],
                          [
                            0.4444444444444444,
                            "#bd3786"
                          ],
                          [
                            0.5555555555555556,
                            "#d8576b"
                          ],
                          [
                            0.6666666666666666,
                            "#ed7953"
                          ],
                          [
                            0.7777777777777778,
                            "#fb9f3a"
                          ],
                          [
                            0.8888888888888888,
                            "#fdca26"
                          ],
                          [
                            1,
                            "#f0f921"
                          ]
                        ],
                        "type": "heatmap"
                      }
                    ],
                    "heatmapgl": [
                      {
                        "colorbar": {
                          "outlinewidth": 0,
                          "ticks": ""
                        },
                        "colorscale": [
                          [
                            0,
                            "#0d0887"
                          ],
                          [
                            0.1111111111111111,
                            "#46039f"
                          ],
                          [
                            0.2222222222222222,
                            "#7201a8"
                          ],
                          [
                            0.3333333333333333,
                            "#9c179e"
                          ],
                          [
                            0.4444444444444444,
                            "#bd3786"
                          ],
                          [
                            0.5555555555555556,
                            "#d8576b"
                          ],
                          [
                            0.6666666666666666,
                            "#ed7953"
                          ],
                          [
                            0.7777777777777778,
                            "#fb9f3a"
                          ],
                          [
                            0.8888888888888888,
                            "#fdca26"
                          ],
                          [
                            1,
                            "#f0f921"
                          ]
                        ],
                        "type": "heatmapgl"
                      }
                    ],
                    "histogram": [
                      {
                        "marker": {
                          "pattern": {
                            "fillmode": "overlay",
                            "size": 10,
                            "solidity": 0.2
                          }
                        },
                        "type": "histogram"
                      }
                    ],
                    "histogram2d": [
                      {
                        "colorbar": {
                          "outlinewidth": 0,
                          "ticks": ""
                        },
                        "colorscale": [
                          [
                            0,
                            "#0d0887"
                          ],
                          [
                            0.1111111111111111,
                            "#46039f"
                          ],
                          [
                            0.2222222222222222,
                            "#7201a8"
                          ],
                          [
                            0.3333333333333333,
                            "#9c179e"
                          ],
                          [
                            0.4444444444444444,
                            "#bd3786"
                          ],
                          [
                            0.5555555555555556,
                            "#d8576b"
                          ],
                          [
                            0.6666666666666666,
                            "#ed7953"
                          ],
                          [
                            0.7777777777777778,
                            "#fb9f3a"
                          ],
                          [
                            0.8888888888888888,
                            "#fdca26"
                          ],
                          [
                            1,
                            "#f0f921"
                          ]
                        ],
                        "type": "histogram2d"
                      }
                    ],
                    "histogram2dcontour": [
                      {
                        "colorbar": {
                          "outlinewidth": 0,
                          "ticks": ""
                        },
                        "colorscale": [
                          [
                            0,
                            "#0d0887"
                          ],
                          [
                            0.1111111111111111,
                            "#46039f"
                          ],
                          [
                            0.2222222222222222,
                            "#7201a8"
                          ],
                          [
                            0.3333333333333333,
                            "#9c179e"
                          ],
                          [
                            0.4444444444444444,
                            "#bd3786"
                          ],
                          [
                            0.5555555555555556,
                            "#d8576b"
                          ],
                          [
                            0.6666666666666666,
                            "#ed7953"
                          ],
                          [
                            0.7777777777777778,
                            "#fb9f3a"
                          ],
                          [
                            0.8888888888888888,
                            "#fdca26"
                          ],
                          [
                            1,
                            "#f0f921"
                          ]
                        ],
                        "type": "histogram2dcontour"
                      }
                    ],
                    "mesh3d": [
                      {
                        "colorbar": {
                          "outlinewidth": 0,
                          "ticks": ""
                        },
                        "type": "mesh3d"
                      }
                    ],
                    "parcoords": [
                      {
                        "line": {
                          "colorbar": {
                            "outlinewidth": 0,
                            "ticks": ""
                          }
                        },
                        "type": "parcoords"
                      }
                    ],
                    "pie": [
                      {
                        "automargin": true,
                        "type": "pie"
                      }
                    ],
                    "scatter": [
                      {
                        "marker": {
                          "colorbar": {
                            "outlinewidth": 0,
                            "ticks": ""
                          }
                        },
                        "type": "scatter"
                      }
                    ],
                    "scatter3d": [
                      {
                        "line": {
                          "colorbar": {
                            "outlinewidth": 0,
                            "ticks": ""
                          }
                        },
                        "marker": {
                          "colorbar": {
                            "outlinewidth": 0,
                            "ticks": ""
                          }
                        },
                        "type": "scatter3d"
                      }
                    ],
                    "scattercarpet": [
                      {
                        "marker": {
                          "colorbar": {
                            "outlinewidth": 0,
                            "ticks": ""
                          }
                        },
                        "type": "scattercarpet"
                      }
                    ],
                    "scattergeo": [
                      {
                        "marker": {
                          "colorbar": {
                            "outlinewidth": 0,
                            "ticks": ""
                          }
                        },
                        "type": "scattergeo"
                      }
                    ],
                    "scattergl": [
                      {
                        "marker": {
                          "colorbar": {
                            "outlinewidth": 0,
                            "ticks": ""
                          }
                        },
                        "type": "scattergl"
                      }
                    ],
                    "scattermapbox": [
                      {
                        "marker": {
                          "colorbar": {
                            "outlinewidth": 0,
                            "ticks": ""
                          }
                        },
                        "type": "scattermapbox"
                      }
                    ],
                    "scatterpolar": [
                      {
                        "marker": {
                          "colorbar": {
                            "outlinewidth": 0,
                            "ticks": ""
                          }
                        },
                        "type": "scatterpolar"
                      }
                    ],
                    "scatterpolargl": [
                      {
                        "marker": {
                          "colorbar": {
                            "outlinewidth": 0,
                            "ticks": ""
                          }
                        },
                        "type": "scatterpolargl"
                      }
                    ],
                    "scatterternary": [
                      {
                        "marker": {
                          "colorbar": {
                            "outlinewidth": 0,
                            "ticks": ""
                          }
                        },
                        "type": "scatterternary"
                      }
                    ],
                    "surface": [
                      {
                        "colorbar": {
                          "outlinewidth": 0,
                          "ticks": ""
                        },
                        "colorscale": [
                          [
                            0,
                            "#0d0887"
                          ],
                          [
                            0.1111111111111111,
                            "#46039f"
                          ],
                          [
                            0.2222222222222222,
                            "#7201a8"
                          ],
                          [
                            0.3333333333333333,
                            "#9c179e"
                          ],
                          [
                            0.4444444444444444,
                            "#bd3786"
                          ],
                          [
                            0.5555555555555556,
                            "#d8576b"
                          ],
                          [
                            0.6666666666666666,
                            "#ed7953"
                          ],
                          [
                            0.7777777777777778,
                            "#fb9f3a"
                          ],
                          [
                            0.8888888888888888,
                            "#fdca26"
                          ],
                          [
                            1,
                            "#f0f921"
                          ]
                        ],
                        "type": "surface"
                      }
                    ],
                    "table": [
                      {
                        "cells": {
                          "fill": {
                            "color": "#EBF0F8"
                          },
                          "line": {
                            "color": "white"
                          }
                        },
                        "header": {
                          "fill": {
                            "color": "#C8D4E3"
                          },
                          "line": {
                            "color": "white"
                          }
                        },
                        "type": "table"
                      }
                    ]
                  },
                  "layout": {
                    "annotationdefaults": {
                      "arrowcolor": "#2a3f5f",
                      "arrowhead": 0,
                      "arrowwidth": 1
                    },
                    "autotypenumbers": "strict",
                    "coloraxis": {
                      "colorbar": {
                        "outlinewidth": 0,
                        "ticks": ""
                      }
                    },
                    "colorscale": {
                      "diverging": [
                        [
                          0,
                          "#8e0152"
                        ],
                        [
                          0.1,
                          "#c51b7d"
                        ],
                        [
                          0.2,
                          "#de77ae"
                        ],
                        [
                          0.3,
                          "#f1b6da"
                        ],
                        [
                          0.4,
                          "#fde0ef"
                        ],
                        [
                          0.5,
                          "#f7f7f7"
                        ],
                        [
                          0.6,
                          "#e6f5d0"
                        ],
                        [
                          0.7,
                          "#b8e186"
                        ],
                        [
                          0.8,
                          "#7fbc41"
                        ],
                        [
                          0.9,
                          "#4d9221"
                        ],
                        [
                          1,
                          "#276419"
                        ]
                      ],
                      "sequential": [
                        [
                          0,
                          "#0d0887"
                        ],
                        [
                          0.1111111111111111,
                          "#46039f"
                        ],
                        [
                          0.2222222222222222,
                          "#7201a8"
                        ],
                        [
                          0.3333333333333333,
                          "#9c179e"
                        ],
                        [
                          0.4444444444444444,
                          "#bd3786"
                        ],
                        [
                          0.5555555555555556,
                          "#d8576b"
                        ],
                        [
                          0.6666666666666666,
                          "#ed7953"
                        ],
                        [
                          0.7777777777777778,
                          "#fb9f3a"
                        ],
                        [
                          0.8888888888888888,
                          "#fdca26"
                        ],
                        [
                          1,
                          "#f0f921"
                        ]
                      ],
                      "sequentialminus": [
                        [
                          0,
                          "#0d0887"
                        ],
                        [
                          0.1111111111111111,
                          "#46039f"
                        ],
                        [
                          0.2222222222222222,
                          "#7201a8"
                        ],
                        [
                          0.3333333333333333,
                          "#9c179e"
                        ],
                        [
                          0.4444444444444444,
                          "#bd3786"
                        ],
                        [
                          0.5555555555555556,
                          "#d8576b"
                        ],
                        [
                          0.6666666666666666,
                          "#ed7953"
                        ],
                        [
                          0.7777777777777778,
                          "#fb9f3a"
                        ],
                        [
                          0.8888888888888888,
                          "#fdca26"
                        ],
                        [
                          1,
                          "#f0f921"
                        ]
                      ]
                    },
                    "colorway": [
                      "#636efa",
                      "#EF553B",
                      "#00cc96",
                      "#ab63fa",
                      "#FFA15A",
                      "#19d3f3",
                      "#FF6692",
                      "#B6E880",
                      "#FF97FF",
                      "#FECB52"
                    ],
                    "font": {
                      "color": "#2a3f5f"
                    },
                    "geo": {
                      "bgcolor": "white",
                      "lakecolor": "white",
                      "landcolor": "#E5ECF6",
                      "showlakes": true,
                      "showland": true,
                      "subunitcolor": "white"
                    },
                    "hoverlabel": {
                      "align": "left"
                    },
                    "hovermode": "closest",
                    "mapbox": {
                      "style": "light"
                    },
                    "paper_bgcolor": "white",
                    "plot_bgcolor": "#E5ECF6",
                    "polar": {
                      "angularaxis": {
                        "gridcolor": "white",
                        "linecolor": "white",
                        "ticks": ""
                      },
                      "bgcolor": "#E5ECF6",
                      "radialaxis": {
                        "gridcolor": "white",
                        "linecolor": "white",
                        "ticks": ""
                      }
                    },
                    "scene": {
                      "xaxis": {
                        "backgroundcolor": "#E5ECF6",
                        "gridcolor": "white",
                        "gridwidth": 2,
                        "linecolor": "white",
                        "showbackground": true,
                        "ticks": "",
                        "zerolinecolor": "white"
                      },
                      "yaxis": {
                        "backgroundcolor": "#E5ECF6",
                        "gridcolor": "white",
                        "gridwidth": 2,
                        "linecolor": "white",
                        "showbackground": true,
                        "ticks": "",
                        "zerolinecolor": "white"
                      },
                      "zaxis": {
                        "backgroundcolor": "#E5ECF6",
                        "gridcolor": "white",
                        "gridwidth": 2,
                        "linecolor": "white",
                        "showbackground": true,
                        "ticks": "",
                        "zerolinecolor": "white"
                      }
                    },
                    "shapedefaults": {
                      "line": {
                        "color": "#2a3f5f"
                      }
                    },
                    "ternary": {
                      "aaxis": {
                        "gridcolor": "white",
                        "linecolor": "white",
                        "ticks": ""
                      },
                      "baxis": {
                        "gridcolor": "white",
                        "linecolor": "white",
                        "ticks": ""
                      },
                      "bgcolor": "#E5ECF6",
                      "caxis": {
                        "gridcolor": "white",
                        "linecolor": "white",
                        "ticks": ""
                      }
                    },
                    "title": {
                      "x": 0.05
                    },
                    "xaxis": {
                      "automargin": true,
                      "gridcolor": "white",
                      "linecolor": "white",
                      "ticks": "",
                      "title": {
                        "standoff": 15
                      },
                      "zerolinecolor": "white",
                      "zerolinewidth": 2
                    },
                    "yaxis": {
                      "automargin": true,
                      "gridcolor": "white",
                      "linecolor": "white",
                      "ticks": "",
                      "title": {
                        "standoff": 15
                      },
                      "zerolinecolor": "white",
                      "zerolinewidth": 2
                    }
                  }
                },
                "width": 600
              }
            }
          },
          "metadata": {},
          "output_type": "display_data"
        },
        {
          "name": "stdout",
          "output_type": "stream",
          "text": [
            "Done!\n"
          ]
        }
      ],
      "source": [
        "text_col = 'Phrase'  # columna del dataframe que contiene el texto (depende del formato de los datos)\n",
        "class_col = 'Sentiment'  # columna del dataframe que contiene la clase (depende del formato de los datos)\n",
        "\n",
        "# obtener algunas estadísticas sobre los datos\n",
        "categories = sorted(data[class_col].unique(), reverse=False)\n",
        "hist= Counter(data[class_col]) \n",
        "print(f'Total de instancias -> {data.shape[0]}')\n",
        "print('Distribución de clases:')\n",
        "for item in sorted(hist.items(), key=lambda x: x[0]): print(f'    {item[0]}: {round(item[1]/len(data[class_col]), 3)}')\n",
        "\n",
        "print(f'Categorías -> {categories}')\n",
        "print(f'Comentario de ejemplo -> {data[text_col][0]}')\n",
        "print(f'Categoría del comentario -> {data[class_col][0]}')\n",
        "\n",
        "fig = go.Figure(layout=go.Layout(height=400, width=600))\n",
        "fig.add_trace(go.Bar(x=categories, y=[hist[cat] for cat in categories]))\n",
        "fig.show()\n",
        "\n",
        "print('Done!')"
      ]
    },
    {
      "cell_type": "markdown",
      "metadata": {
        "id": "SA75he6UYgSL"
      },
      "source": [
        "Finalmente, ejecute la siguiente casilla para crear los conjuntos de entrenamiento y validación que se utilizarán para entrenar y validar los modelos."
      ]
    },
    {
      "cell_type": "code",
      "execution_count": 6,
      "metadata": {
        "id": "iRH4fhKrYg49"
      },
      "outputs": [
        {
          "name": "stdout",
          "output_type": "stream",
          "text": [
            "Done!\n"
          ]
        }
      ],
      "source": [
        "# obtener conjuntos de entrenamiento (90%) y validación (10%)\n",
        "seed = 0  # fijar random_state para reproducibilidad\n",
        "train, val = train_test_split(data, test_size=.1, stratify=data[class_col], random_state=seed)\n",
        "\n",
        "print('Done!')"
      ]
    },
    {
      "cell_type": "markdown",
      "metadata": {
        "id": "fuKfnywyV86e"
      },
      "source": [
        "### Implementación y configuración del modelo\n",
        "\n",
        "Como hemos visto, la arquitectura del modelo consta de:\n",
        "\n",
        "- un extractor de rasgos con los que se describirá el texto. En nuestro caso, se utilizará una versión pre-entrenada de [DistilBERT](https://huggingface.co/transformers/model_doc/distilbert.html).\n",
        "\n",
        "- un clasificador que aprenderá a partir de un conjunto de ejemplos donde cada texto se representa a partir de los rasgos. En la actividad, el clasificador será una red neuronal.\n",
        "\n",
        "En la actividad, aprovecharemos una implementación de esta arquitectura incluida en Transformers mediante la clase [TFDistilBertForSequenceClassification](https://huggingface.co/transformers/model_doc/distilbert.html#tfdistilbertforsequenceclassification). \n",
        "\n",
        "Es decir, partiremos de un modelo pre-entrenado en datos diferentes a los nuestros (transfer-learning) realizando algunas iteraciones adicionales para ajustarlo a nuestro problema en particular (fine-tuning).\n",
        "\n",
        "Una ventaja de este enfoque es que, tanto el extractor como el clasificador se entrenarán conjuntamente para modelar nuestro problema.\n",
        "\n",
        "\n",
        "**Notar que:**\n",
        "\n",
        "- en un problema de clasificación multiclases la última capa densa del clasificador debe tener tantas neuronas como posibles categorías contemple el problema. No obstante, en un problema de clasificación binaria, es recomendable tener una sola neurona. Ver *num_labels* en la configuración de DistilBERT.\n",
        "\n",
        "- los modelos que implementa Transformers funcionan como modelos [Keras](https://www.tensorflow.org/guide/keras?hl=es) por lo que al utilizarlos debe cuidarse que las entradas tengan el número y formato adecuado. En este caso, deben suministrarse tensores correspondientes al texto tokenizado y las respectivas attention masks.\n",
        "\n",
        "Ejecute las siguientes casillas prestando atención a los comentarios incluidos junto al código.\n"
      ]
    },
    {
      "cell_type": "code",
      "execution_count": 7,
      "metadata": {
        "id": "11NFa2reJ9fc"
      },
      "outputs": [
        {
          "name": "stdout",
          "output_type": "stream",
          "text": [
            "Done!\n"
          ]
        }
      ],
      "source": [
        "# configuraciones\n",
        "cfg = {}  # diccionario para agrupar configuraciones y variables para su posterior uso\n",
        "cfg['framework'] = 'tf'  # TensorFlow como framework (por cuestiones del formato en los datos)\n",
        "cfg['max_length'] = 512  # máxima longitud de secuencia recomendada por DistilBERT\n",
        "cfg['transformer_model_name'] = 'distilbert-base-uncased'\n",
        "cfg['num_labels'] = 1  # cambiar este número según el número de clases\n",
        "\n",
        "print('Done!')"
      ]
    },
    {
      "cell_type": "markdown",
      "metadata": {
        "id": "83jAjf5lKVL3"
      },
      "source": [
        "#### Configuración del modelo"
      ]
    },
    {
      "cell_type": "code",
      "execution_count": 8,
      "metadata": {
        "id": "veyHWjwn0DBM"
      },
      "outputs": [
        {
          "name": "stderr",
          "output_type": "stream",
          "text": [
            "Some layers from the model checkpoint at distilbert-base-uncased were not used when initializing TFDistilBertForSequenceClassification: ['vocab_layer_norm', 'vocab_transform', 'activation_13', 'vocab_projector']\n",
            "- This IS expected if you are initializing TFDistilBertForSequenceClassification from the checkpoint of a model trained on another task or with another architecture (e.g. initializing a BertForSequenceClassification model from a BertForPreTraining model).\n",
            "- This IS NOT expected if you are initializing TFDistilBertForSequenceClassification from the checkpoint of a model that you expect to be exactly identical (initializing a BertForSequenceClassification model from a BertForSequenceClassification model).\n",
            "Some layers of TFDistilBertForSequenceClassification were not initialized from the model checkpoint at distilbert-base-uncased and are newly initialized: ['dropout_19', 'classifier', 'pre_classifier']\n",
            "You should probably TRAIN this model on a down-stream task to be able to use it for predictions and inference.\n"
          ]
        },
        {
          "name": "stdout",
          "output_type": "stream",
          "text": [
            "Model: \"tf_distil_bert_for_sequence_classification\"\n",
            "_________________________________________________________________\n",
            " Layer (type)                Output Shape              Param #   \n",
            "=================================================================\n",
            " distilbert (TFDistilBertMai  multiple                 66362880  \n",
            " nLayer)                                                         \n",
            "                                                                 \n",
            " pre_classifier (Dense)      multiple                  590592    \n",
            "                                                                 \n",
            " classifier (Dense)          multiple                  769       \n",
            "                                                                 \n",
            " dropout_19 (Dropout)        multiple                  0         \n",
            "                                                                 \n",
            "=================================================================\n",
            "Total params: 66,954,241\n",
            "Trainable params: 66,954,241\n",
            "Non-trainable params: 0\n",
            "_________________________________________________________________\n",
            "Done!\n"
          ]
        }
      ],
      "source": [
        "# configuraciones\n",
        "config = DistilBertConfig(num_labels=cfg['num_labels'], seq_classif_dropout=0.5)\n",
        "\n",
        "# cargar el modelo pre-entrenado disponible en Transformers\n",
        "model = TFDistilBertForSequenceClassification.from_pretrained(cfg['transformer_model_name'], config=config)\n",
        "\n",
        "# finalizar configuración del modelo\n",
        "# se sugiere revisar documentación para más detalles sobre los diferentes hiper-parámetros\n",
        "optimizer = tf.keras.optimizers.Adam(learning_rate=5e-5)\n",
        "\n",
        "# definir función loss. Debe cuidarse que sea coherente con la salida esperada del modelo (vector de num_labels elementos)\n",
        "# y el formato de los ejemplos (vector one-hot de num_labels componentes para codificar las categorías)\n",
        "## para más de una categoría utilizar tf.keras.losses.CategoricalCrossentropy u otra a fin\n",
        "loss = tf.keras.losses.BinaryCrossentropy(from_logits=True)\n",
        "\n",
        "# compilar el modelo, indicando otras métricas que se desee monitorear.\n",
        "# La métrica debe ser apropiada para el tipo de problema (clasificación binaria o multiclase)\n",
        "## para más de una categoría utilizar 'categorical_accuracy'\n",
        "model.compile(optimizer=optimizer, loss=loss, metrics=['binary_accuracy'])\n",
        "\n",
        "# imprimir sumario del modelo\n",
        "model.summary()\n",
        "\n",
        "print('Done!')"
      ]
    },
    {
      "cell_type": "markdown",
      "metadata": {
        "id": "zIXGmNO4YujW"
      },
      "source": [
        "### Pre-procesamiento de los datos\n",
        "\n",
        "Antes de entrenar, debemos pre-procesar los datos. Esto dependerá de la tarea en particular, en este caso, comprende:\n",
        "\n",
        "- tokenizar para obtener los ids y las máscaras. Debe tener en cuenta que el tokenizador debe ser compatible con el modelo a utilizar, DistilBERT en este caso.\n",
        "\n",
        "- obtener los vectores one-hot correspondientes a las categorías.\n",
        "\n",
        "- convertir a tensores cuando sea necesario, pues este será el formato de entrada que se utilizará en el modelo. Los tensores representan una estructura multidimensional de Tensorflow para contener los datos.\n",
        "\n",
        "**Notar que:**\n",
        "- es necesario codificar el valor correspondiente a la categoría de modo que pueda procesarse por la red neuronal. Podemos asignar valor *1* a la categoría *positive* y *0* a la *negative*.  En un problema de clasificación multiclases, podemos realizar la codificación mediante un vector one-hot. En la actividad utilizaremos [LabelBinarizer](https://scikit-learn.org/stable/modules/generated/sklearn.preprocessing.LabelBinarizer.html) de [scikit-learn](https://scikit-learn.org/stable/).\n",
        "\n",
        "Ejecute las siguiente casillas prestando atención a los comentarios explicativos."
      ]
    },
    {
      "cell_type": "markdown",
      "metadata": {
        "id": "Zr5cOi6aKztL"
      },
      "source": [
        "#### Instanciar tokenizador, etc."
      ]
    },
    {
      "cell_type": "code",
      "execution_count": 9,
      "metadata": {
        "id": "_9sWr5OxK0ET"
      },
      "outputs": [
        {
          "name": "stdout",
          "output_type": "stream",
          "text": [
            "Done!\n"
          ]
        }
      ],
      "source": [
        "# cargar el tokenizador, disponible en Transformers\n",
        "cfg['tokenizer'] = DistilBertTokenizer.from_pretrained(cfg['transformer_model_name'] )\n",
        "\n",
        "# instanciar y entrenar LabelBinarizer\n",
        "cfg['label_binarizer'] = preprocessing.LabelBinarizer() # guardar para su posterior uso al decodificar predicciones\n",
        "\n",
        "print('Done!')"
      ]
    },
    {
      "cell_type": "markdown",
      "metadata": {
        "id": "BZDtSJp3N5ys"
      },
      "source": [
        "#### Pre-procesamiento"
      ]
    },
    {
      "cell_type": "code",
      "execution_count": 10,
      "metadata": {
        "id": "pNN4mqo6YusN"
      },
      "outputs": [
        {
          "name": "stdout",
          "output_type": "stream",
          "text": [
            "Done!\n"
          ]
        }
      ],
      "source": [
        "# entrenar LabelBinarizer\n",
        "cfg['label_binarizer'].fit(train[class_col])\n",
        "\n",
        "# guardar LabelBinarizer para su uso posterior (decodificar las predicciones de nuevos datos)\n",
        "with open('label_binarizer_reviews.pkl', 'wb') as f:\n",
        "    pickle.dump(cfg['label_binarizer'], f)\n",
        "\n",
        "# obtener codificación one-hot\n",
        "train_blabels = cfg['label_binarizer'].transform(train[class_col])\n",
        "val_blabes = cfg['label_binarizer'].transform(val[class_col])\n",
        "\n",
        "# obtener tensores correspondientes\n",
        "train_blabels_t = tf.convert_to_tensor(train_blabels, dtype='int32')\n",
        "val_blabels_t = tf.convert_to_tensor(val_blabes, dtype='int32')\n",
        "\n",
        "# obtener diccionarios representando las entradas del modelo\n",
        "train_inputs = get_model_inputs(cfg, train[text_col].to_list())\n",
        "val_inputs = get_model_inputs(cfg, val[text_col].to_list())\n",
        "\n",
        "print('Done!')"
      ]
    },
    {
      "cell_type": "markdown",
      "metadata": {
        "id": "x9L3WbPKZ5JA"
      },
      "source": [
        "### Entrenamiento del modelo\n",
        "\n",
        "Por último, es necesario entrenar el modelo.\n",
        "\n",
        "**Notar que:**\n",
        " - la ejecución puede tomar un tiempo considerable (horas) o fallar por falta de memoria en dependencia del hardware y parámetros como el *batch_size*.\n",
        "\n",
        "- es recomendable guardar checkpoints del modelo luego de varias iteraciones. En este caso, se guardarán en carpeta con nombres tipo \"distilbert-reviews-epochs-[epoch_from]-[epoch_to]\", por ejemplo, \"distilbert-reviews-epochs-[003]-[003]\"."
      ]
    },
    {
      "cell_type": "code",
      "execution_count": 11,
      "metadata": {
        "id": "6_zb7ESg0DBW"
      },
      "outputs": [
        {
          "name": "stdout",
          "output_type": "stream",
          "text": [
            "Training model, epochs 1 - 1\n",
            "WARNING:tensorflow:From C:\\Users\\izangale\\AppData\\Local\\Packages\\PythonSoftwareFoundation.Python.3.10_qbz5n2kfra8p0\\LocalCache\\local-packages\\Python310\\site-packages\\tensorflow\\python\\autograph\\pyct\\static_analysis\\liveness.py:83: Analyzer.lamba_check (from tensorflow.python.autograph.pyct.static_analysis.liveness) is deprecated and will be removed after 2023-09-23.\n",
            "Instructions for updating:\n",
            "Lambda fuctions will be no more assumed to be used in the statement where they are used, or at least in the same block. https://github.com/tensorflow/tensorflow/issues/56089\n",
            " 31/100 [========>.....................] - ETA: 20:42 - loss: 0.6317 - binary_accuracy: 0.5786"
          ]
        }
      ],
      "source": [
        "# configuraciones\n",
        "cfg['checkpoints_dir'] = 'checkpoints'  # directorio donde se guardarán los checkpoints al entrenar el modelo\n",
        "cfg['model_name'] = 'distilbert-reviews'  # identificador al guardar los checkpoints\n",
        "cfg['trained_model_name'] = os.path.join(cfg['checkpoints_dir'], cfg['model_name'])\n",
        "\n",
        "epochs_max = 1\n",
        "epochs_to_save = 1 # si epochs_max % epochs_to_save !=0 podrían realizarse iteraciones extras\n",
        "batch_size = 16\n",
        "\n",
        "# ciclo de entrenamiento y guardar checkpoints\n",
        "for epoch_current in range(0, epochs_max, epochs_to_save):\n",
        "    epoch_from = epoch_current +1\n",
        "    epoch_to = epoch_current + epochs_to_save\n",
        "    print(f'Training model, epochs {epoch_from} - {epoch_to}')\n",
        "    \n",
        "    # entrenar el modelo. Opcionalmente, se puede suministrar datos de validación => validation_data=(val_inputs,val_blabels_t )\n",
        "    model.fit(train_inputs, y=train_blabels_t, initial_epoch=epoch_current, epochs=epoch_to, batch_size=batch_size, validation_data=(val_inputs,val_blabels_t))\n",
        "\n",
        "    model.save_pretrained(cfg['trained_model_name'] + f'-epochs-{epoch_from:03d}-{epoch_to:03d}', )\n",
        "    cfg['tokenizer'].save_pretrained(cfg['trained_model_name'] + f'-epochs-{epoch_from:03d}-{epoch_to:03d}')\n",
        "\n",
        "print('Done!')"
      ]
    },
    {
      "cell_type": "markdown",
      "metadata": {
        "id": "_gtuFJqtgUPi"
      },
      "source": [
        "### Evaluación del modelo\n",
        "Luego de entrenado el modelo, podemos evaluar su desempeño en los conjuntos de entrenamiento y validación.\n",
        "\n",
        "Ejecute la siguiente casilla para evaluar el modelo en el conjunto de entrenamiento."
      ]
    },
    {
      "cell_type": "code",
      "execution_count": null,
      "metadata": {
        "id": "S9iV_FnmgWJ6"
      },
      "outputs": [],
      "source": [
        "# predecir los datos de entrenamiento\n",
        "data = train\n",
        "true_labels = data[class_col]\n",
        "\n",
        "m_pred = predict_model(model, cfg, data[text_col].to_list(), pref='m')\n",
        "\n",
        "evaluate_model(true_labels, m_pred['labels_m'])  # notar que en este caso se no suministran los scores\n",
        "\n",
        "print('Done!')"
      ]
    },
    {
      "cell_type": "markdown",
      "metadata": {
        "id": "l99UlRtBw2cC"
      },
      "source": [
        "Ejecute la siguiente casilla para evaluar el modelo en el conjunto de validación. Compare los resultados."
      ]
    },
    {
      "cell_type": "code",
      "execution_count": null,
      "metadata": {
        "id": "gcglNudkw2Rb"
      },
      "outputs": [],
      "source": [
        "# predecir los datos de validación\n",
        "data = val\n",
        "true_labels = data[class_col]\n",
        "\n",
        "m_pred = predict_model(model, cfg, data[text_col].to_list(), pref='m')\n",
        "\n",
        "evaluate_model(true_labels, m_pred['labels_m'])  # notar que en este caso se no suministran los scores\n",
        "\n",
        "print('Done!')"
      ]
    },
    {
      "cell_type": "markdown",
      "metadata": {
        "id": "mNP5324-t1G2"
      },
      "source": [
        "## Predicción de nuevos datos\n",
        "\n",
        "Una vez entrenado el modelo, podemos evaluar su rendimiento en datos no utilizados durante el aprendizaje o emplearlo para predecir nuevas instancias. En cualquier caso, se debe cuidar realizar los pasos de pre-procesamiento necesarios según el caso. En el ejemplo, utilizaremos la porción de prueba preparada inicialmente.\n",
        "\n",
        "**Notar que**:\n",
        "-  se cargará el modelo previamente entrenado, estableciendo las configuraciones pertinentes.\n",
        "\n",
        "- se debe decodificar la salida del modelo para obtener la correspondiente categoría utilizando el mismo codificador.\n",
        "\n",
        "- si disponemos de un modelo guardado, podremos ejecutar directamente esta parte del cuaderno. Sin embargo, será necesario al menos ejecutar previamente la sección [**Instalación de librerías...**](#sec:setup)\n",
        "\n"
      ]
    },
    {
      "cell_type": "markdown",
      "metadata": {
        "id": "U4tGrVseaod7"
      },
      "source": [
        "### Cargar otros elementos necesarios \n",
        "\n",
        "Antes de predecir nuevos datos, también es preciso cargar otros elementos necesarios como el tokenizador, el codificador para las etiquetas, etc.\n",
        "\n",
        "Ejecute la siguiente casilla."
      ]
    },
    {
      "cell_type": "code",
      "execution_count": null,
      "metadata": {
        "id": "1GuR0t96apOT"
      },
      "outputs": [],
      "source": [
        "# configuraciones\n",
        "text_col = 'Phrase'  # columna del dataframe que contiene el texto (depende del formato de los datos)\n",
        "class_col = 'Sentiment'  # columna del dataframe que contiene la clase (depende del formato de los datos)\n",
        "\n",
        "cfg = {}  # diccionario para agrupar configuraciones y variables para su posterior uso\n",
        "cfg['framework'] = 'tf'  # TensorFlow como framework (por cuestiones del formato en los datos)\n",
        "cfg['max_length'] = 512  # máxima longitud de secuencia recomendada por DistilBERT\n",
        "cfg['transformer_model_name'] = 'distilbert-base-uncased'\n",
        "cfg['num_labels'] = 1  # ver descripción de la sección \"Implementación y configuración del modelo\"\n",
        "\n",
        "cfg['checkpoints_dir'] = 'checkpoints'\n",
        "cfg['model_name'] = 'distilbert-reviews-epochs-001-001'  # verificar que se ha guardado un modelo con este nombre dentro cfg['checkpoints_dir']\n",
        "cfg['trained_model_name'] = os.path.join(cfg['checkpoints_dir'], cfg['model_name'])\n",
        "\n",
        "# cargar el tokenizador (desde la carpeta del checkpoint)\n",
        "cfg['tokenizer'] = DistilBertTokenizer.from_pretrained(cfg['trained_model_name'])\n",
        "\n",
        "# cargar el codificador one-hot utilizado para codificar los datos de entrenamiento\n",
        "# es necesario para realizar la transformación inversa de la salida de la red y conocer el número de categorías\n",
        "with open('label_binarizer_reviews.pkl', 'rb') as f:\n",
        "    cfg['label_binarizer'] = pickle.load(f)\n",
        "\n",
        "print('Done!')"
      ]
    },
    {
      "cell_type": "markdown",
      "metadata": {
        "id": "yAHxDO8RaQcG"
      },
      "source": [
        "### Instanciar modelo pre-entrenado\n",
        "\n",
        "Para predecir nuevas instancias es preciso cargar el modelo previamente entrenado. Esto dependerá del formato en el que se exportó el modelo, pero en general se requieren dos elementos: la estructura del modelo y los pesos. \n",
        "\n",
        "Ejecute la siguiente casilla para cargar el modelo."
      ]
    },
    {
      "cell_type": "code",
      "execution_count": null,
      "metadata": {
        "id": "kraUymSvaQkE"
      },
      "outputs": [],
      "source": [
        "config = DistilBertConfig(num_labels=cfg['num_labels'])\n",
        "\n",
        "# cargar modelo entrenado para evaluarlo o predecir nuevos datos\n",
        "model = TFDistilBertForSequenceClassification.from_pretrained(cfg['trained_model_name'], config=config)\n",
        "\n",
        "print('Done!')"
      ]
    },
    {
      "cell_type": "markdown",
      "metadata": {
        "id": "BQ2zco-6a3zM"
      },
      "source": [
        "### Predecir nuevos datos\n",
        "\n",
        "Con el modelo y el tokenizador cargados, es posible utilizarlo para analizar nuevos datos. \n",
        "\n",
        "Ejecute las siguientes casillas para:\n",
        "\n",
        "(a) categorizar un texto de muestra.\n",
        "\n",
        "(b) cargar nuevos datos, categorizarlos y mostrar algunas estadísticas sobre el corpus."
      ]
    },
    {
      "cell_type": "code",
      "execution_count": null,
      "metadata": {
        "id": "hJBXkDsza4PB"
      },
      "outputs": [],
      "source": [
        "# ejemplo de texto a clasificar, # lista [texto 1, text 2, ..., texto n]\n",
        "text = ['Brian De Palma\\'s undeniable virtuosity can\\'t really camouflage the fact that his plot here is a thinly disguised\\\n",
        "        \\\"Psycho\\\" carbon copy, but he does provide a genuinely terrifying climax. His \"Blow Out\", made the next year, was an improvement.']\n",
        "\n",
        "m_pred = predict_model(model, cfg, text, pref='m')\n",
        "\n",
        "pred_labels = m_pred['labels_m'].values[0]\n",
        "pred_proba = m_pred['scores_m'].values[0]\n",
        "\n",
        "print(f'La categoría de la frase es -> {pred_labels}')\n",
        "print(f'El score asignado a la clase positiva es -> {pred_proba:.2f}')\n",
        "\n",
        "print('Done!')\n"
      ]
    },
    {
      "cell_type": "markdown",
      "metadata": {
        "id": "zrzsPZ_ucy2l"
      },
      "source": [
        "También podemos predecir nuevos datos cargados desde un fichero. \n",
        "\n",
        "Ejecute la siguiente casilla, descomentando las instrucciones necesarias según sea el caso."
      ]
    },
    {
      "cell_type": "code",
      "execution_count": null,
      "metadata": {
        "id": "l1eKMQjncygu"
      },
      "outputs": [],
      "source": [
        "# descomente las siguientes 3 líneas para leer datos desde Google Drive, asumiendo que se trata de un fichero llamado review.csv localizado dentro de una carpeta llamada 'Datos' en su Google Drive\n",
        "#from google.colab import drive\n",
        "#drive.mount('/content/drive')\n",
        "#path = '/content/drive/MyDrive/Datos/ejemplo_review_train.csv'\n",
        "\n",
        "# descomente la siguiente línea para leer los datos desde un archivo local, por ejemplo, asumiendo que se encuentra dentro de un directorio llamado sample_data\n",
        "#path = './sample_data/ejemplo_review_train.csv'\n",
        "\n",
        "# descomente la siguiente línea para leer datos desde un URL\n",
        "path = 'https://github.com/TeachingTextMining/TextClassification/raw/main/03-SA-Transformers-Training-FineTuning/sample_data/ejemplo_review_test.csv'\n",
        "\n",
        "# leer los datos\n",
        "new_data = pd.read_csv(path, sep=',')\n",
        "\n",
        "print('Done!')"
      ]
    },
    {
      "cell_type": "markdown",
      "metadata": {
        "id": "luJu-v8idK6s"
      },
      "source": [
        "Ejecute la siguiente celda para predecir los datos y mostrar algunas estadísticas sobre el análisis realizado."
      ]
    },
    {
      "cell_type": "code",
      "execution_count": null,
      "metadata": {
        "id": "GO19VjnHP9s0"
      },
      "outputs": [],
      "source": [
        "# predecir los datos de prueba\n",
        "m_pred = predict_model(model, cfg, new_data[text_col].to_list(), pref='m')\n",
        "pred_labels = m_pred['labels_m']\n",
        "\n",
        "# obtener algunas estadísticas sobre la predicción en el conjunto de pruebas\n",
        "categories = sorted(pred_labels.unique(), reverse=False)\n",
        "hist = Counter(pred_labels.values) \n",
        "\n",
        "fig = go.Figure(layout=go.Layout(height=400, width=600))\n",
        "fig.add_trace(go.Bar(x=categories, y=[hist[cat] for cat in categories]))\n",
        "fig.show()\n",
        "\n",
        "print('Done!')"
      ]
    }
  ],
  "metadata": {
    "accelerator": "GPU",
    "colab": {
      "include_colab_link": true,
      "private_outputs": true,
      "provenance": []
    },
    "gpuClass": "standard",
    "kernelspec": {
      "display_name": "Python 3",
      "language": "python",
      "name": "python3"
    },
    "language_info": {
      "codemirror_mode": {
        "name": "ipython",
        "version": 3
      },
      "file_extension": ".py",
      "mimetype": "text/x-python",
      "name": "python",
      "nbconvert_exporter": "python",
      "pygments_lexer": "ipython3",
      "version": "3.10.10"
    },
    "vscode": {
      "interpreter": {
        "hash": "64eae94363923fe39aa3c3243b2ee378bd1b377e82c14954f8170e11fbbeb086"
      }
    }
  },
  "nbformat": 4,
  "nbformat_minor": 0
}
