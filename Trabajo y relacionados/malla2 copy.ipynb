{
 "cells": [
  {
   "cell_type": "code",
   "execution_count": null,
   "metadata": {},
   "outputs": [],
   "source": [
    "rects = [(163, 287, 161, 37), (36, 287, 110, 36), (163, 220, 161, 53), (36, 220, 110, 53), (163, 137, 161, 69), (16, 137, 110, 69), (163, 36, 161, 87), (36, 36, 110, 87)]\n",
    "\n",
    "#crea una imagen que tenga los anteriores rectángulos\n",
    "img = np.zeros((300,300,3), np.uint8)\n",
    "for rect in rects:\n",
    "    cv2.rectangle(img, rect[:2], (rect[0]+rect[2], rect[1]+rect[3]), (255,255,255), -1)\n",
    "\n",
    "\n",
    "#pega dentro de cada rectángulo de la imagen un texto sin que se salga de los límites del rectángulo\n",
    "for rect in rects:\n",
    "    cv2.putText(img, 'Texto', (rect[0], rect[1]+rect[3]), cv2.FONT_HERSHEY_SIMPLEX, 1, (0,0,0), 2, cv2.LINE_AA)\n",
    "\n",
    "\n",
    "\n",
    "\n",
    "\n"
   ]
  }
 ],
 "metadata": {
  "kernelspec": {
   "display_name": "Python 3 (ipykernel)",
   "language": "python",
   "name": "python3"
  },
  "orig_nbformat": 4
 },
 "nbformat": 4,
 "nbformat_minor": 2
}
