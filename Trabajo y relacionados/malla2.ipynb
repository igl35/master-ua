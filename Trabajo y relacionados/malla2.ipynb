{
 "cells": [
  {
   "cell_type": "code",
   "execution_count": null,
   "metadata": {},
   "outputs": [],
   "source": [
    "#dada una imagen con n rectánfgulos extrae la máscara de cada uno de ellos y calcula el bbox de cada uno de ellos\n",
    "\n",
    "import cv2\n",
    "import numpy as np\n",
    "import matplotlib.pyplot as plt\n",
    "import matplotlib.patches as patches\n",
    "from skimage import measure\n",
    "from skimage.measure import regionprops\n",
    "import matplotlib.patches as patches\n",
    "from skimage import measure\n",
    "from skimage.measure import regionprops\n",
    "import matplotlib.patches as patches\n",
    "from skimage import measure\n",
    "\n",
    "#leer imagen\n",
    "image = cv2.imread('malla.jpg')\n",
    "#convertir a escala de grises\n",
    "gray = cv2.cvtColor(image, cv2.COLOR_BGR2GRAY)\n",
    "#binarizar\n",
    "ret, thresh = cv2.threshold(gray, 127, 255, cv2.THRESH_BINARY_INV)\n",
    "#encontrar contornos\n",
    "contours, hierarchy = cv2.findContours(thresh,cv2.RETR_EXTERNAL,cv2.CHAIN_APPROX_SIMPLE)\n",
    "#dibujar contornos\n",
    "cv2.drawContours(image, contours, -1, (0,255,0), 3)\n",
    "#mostrar imagen\n",
    "plt.imshow(image)\n",
    "plt.show()\n",
    "\n",
    "#extraer máscaras\n",
    "mask = np.zeros(gray.shape,np.uint8)\n",
    "for i in range(len(contours)):\n",
    "    cv2.drawContours(mask,contours,i,255,-1)\n",
    "    mean_val = cv2.mean(image,mask = mask)\n",
    "    print(mean_val)\n",
    "\n",
    "#extraer bbox\n",
    "for contour in contours:\n",
    "    #obtener el bounding box\n",
    "    x,y,w,h = cv2.boundingRect(contour)\n",
    "    #dibujar el bounding box\n",
    "    rect = patches.Rectangle((x,y),w,h,linewidth=1,edgecolor='r',facecolor='none')\n",
    "    #mostrar el bounding box\n",
    "    plt.gca().add_patch(rect)\n",
    "#mostrar imagen\n",
    "plt.imshow(image)\n",
    "plt.show()\n",
    "\n",
    "\n"
   ]
  }
 ],
 "metadata": {
  "language_info": {
   "name": "python"
  },
  "orig_nbformat": 4
 },
 "nbformat": 4,
 "nbformat_minor": 2
}
