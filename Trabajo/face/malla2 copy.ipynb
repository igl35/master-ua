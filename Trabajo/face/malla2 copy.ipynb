{
 "cells": [
  {
   "cell_type": "code",
   "execution_count": 4,
   "metadata": {},
   "outputs": [
    {
     "data": {
      "text/plain": [
       "'CtiQS QSLsB5B'"
      ]
     },
     "execution_count": 4,
     "metadata": {},
     "output_type": "execute_result"
    },
    {
     "ename": "",
     "evalue": "",
     "output_type": "error",
     "traceback": [
      "\u001b[1;31mEl Kernel se bloqueó al ejecutar código en la celda actual o en una celda anterior. Revise el código de las celdas para identificar una posible causa del error. Haga clic <a href='https://aka.ms/vscodeJupyterKernelCrash'>aquí</a> para obtener más información. Vea el [registro] de Jupyter (command:jupyter.viewOutput) para obtener más detalles."
     ]
    }
   ],
   "source": [
    "import string \n",
    "import random\n",
    "\n",
    "\n",
    "# #se recibe un string y si la primera cifgra es una letra se pone esa letra en mayúsculas y el resto en minusculas \n",
    "# def upperFirstLetter(string):\n",
    "#     return string[0].upper() + string[1:].lower()\n",
    "\n",
    "# upperFirstLetter('1124hola')\n",
    "\n",
    "# #genera fechas aleatorias con el formarto dd.mm.yyyy\n",
    "# def randomDate():\n",
    "#     day = random.randint(1,31)\n",
    "#     #si el dia es de una cifra se le agrega un 0 al inicio\n",
    "#     if day < 10:\n",
    "#         day = '0' + str(day)\n",
    "#     month = random.randint(1,12)\n",
    "#     #si el mes es de una cifra se le agrega un 0 al inicio\n",
    "#     if month < 10:\n",
    "#         month = '0' + str(month)\n",
    "#     year = random.randint(1950,2019)\n",
    "#     return str(day) + '.' + str(month) + '.' + str(year)\n",
    "\n",
    "# randomDate()\n",
    "\n",
    "#genera cadenas aleatorios de tamaño n y con espacios en posiciones aleatorias\n",
    "def randomString(n):\n",
    "    cadena = ''.join(random.choices(string.ascii_uppercase + string.digits, k=n))\n",
    "    #se agrega un espacio en una posicion aleatoria\n",
    "    cadena = cadena[:random.randint(0,n-1)] + ' ' + cadena[random.randint(0,n-1):]\n",
    "    return cadena\n",
    "\n",
    "randomString(10)\n",
    "\n",
    "#ahora haz lo mismo pero con mayúsculas y minúsculas y números\n",
    "def randomString2(n):\n",
    "    cadena = ''.join(random.choices(string.ascii_uppercase + string.ascii_lowercase + string.digits, k=n))\n",
    "    #se agrega un espacio en una posicion aleatoria\n",
    "    cadena = cadena[:random.randint(0,n-1)] + ' ' + cadena[random.randint(0,n-1):]\n",
    "    return cadena\n",
    "\n",
    "randomString2(10)"
   ]
  }
 ],
 "metadata": {
  "kernelspec": {
   "display_name": "base",
   "language": "python",
   "name": "python3"
  },
  "language_info": {
   "codemirror_mode": {
    "name": "ipython",
    "version": 3
   },
   "file_extension": ".py",
   "mimetype": "text/x-python",
   "name": "python",
   "nbconvert_exporter": "python",
   "pygments_lexer": "ipython3",
   "version": "3.9.1"
  },
  "orig_nbformat": 4,
  "vscode": {
   "interpreter": {
    "hash": "f3b784c3135c0a5695f3df4640ca15990d145db58fefdf9e9ac41a8d4997826d"
   }
  }
 },
 "nbformat": 4,
 "nbformat_minor": 2
}
