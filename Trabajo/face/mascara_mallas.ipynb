{
 "cells": [
  {
   "cell_type": "code",
   "execution_count": null,
   "metadata": {},
   "outputs": [
    {
     "ename": "",
     "evalue": "",
     "output_type": "error",
     "traceback": [
      "\u001b[1;31mLa ejecución de celdas con 'c:\\Users\\usuario\\AppData\\Local\\Microsoft\\WindowsApps\\python3.10.exe' requiere el paquete ipykernel.\n",
      "\u001b[1;31mRun the following command to install 'ipykernel' into the Python environment. \n",
      "\u001b[1;31mCommand: 'c:/Users/usuario/AppData/Local/Microsoft/WindowsApps/python3.10.exe -m pip install ipykernel -U --user --force-reinstall'"
     ]
    }
   ],
   "source": [
    "#dada una imagen que contiene rectágulos, extrae la mascara de cada uno de ellos y calcula los bbox de cada uno de ellos\n",
    "#la imagen debe estar en escala de grises\n",
    "#instala cv2\n",
    "!pip install libGL\n",
    "!pip install opencv-python\n",
    "!pip install numpy\n",
    "!pip install matplotlib\n",
    "\n",
    "#importa open cv\n",
    "\n",
    "import cv2\n",
    "import numpy as np\n",
    "import matplotlib.pyplot as plt\n",
    "import os\n",
    "import glob\n",
    "import pandas as pd\n",
    "import math\n",
    "import random\n",
    "import time\n",
    "import sys\n",
    "import shutilS\n",
    "import csv\n",
    "import re\n",
    "import math\n",
    "\n",
    "#funcion para extraer la mascara de cada rectangulo que hay en la imagen\n",
    "def get_mask(img):\n",
    "    # Find contours\n",
    "    contours, hierarchy = cv2.findContours(img, cv2.RETR_EXTERNAL, cv2.CHAIN_APPROX_SIMPLE)\n",
    "    # Create empty mask\n",
    "    mask = np.zeros(img.shape, dtype=np.uint8)\n",
    "    # Fill mask\n",
    "    cv2.drawContours(mask, contours, -1, 255, -1)\n",
    "    return mask \n",
    "\n",
    "#ahora dada las máscara calculamos el bbox\n",
    "def get_bbox(mask):\n",
    "    # Find bounding box\n",
    "    points = np.argwhere(mask>0)\n",
    "    points = np.fliplr(points)\n",
    "    x, y, w, h = cv2.boundingRect(points)\n",
    "    return x,y,w,h\n",
    "\n",
    "#funcion para dibujar el bbox\n",
    "def draw_bbox(img,rect):\n",
    "    x,y,w,h = rect\n",
    "    cv2.rectangle(img,(x,y),(x+w,y+h),(0,255,0),2)\n",
    "    return img\n",
    "\n",
    "#pon un ejemplo de como se usa\n",
    "if __name__ == '__main__':\n",
    "    # Load image\n",
    "    img = cv2.imread('/workspaces/master-ua/Trabajo y relacionados/360_F_224074427_xJpLTE2OAvSG3LNKt5WGpKoQPaOTEeu1.jpg',0)\n",
    "    # Get mask\n",
    "    mask = get_mask(img)\n",
    "    # Get bounding box\n",
    "    rect = get_bbox(mask)\n",
    "    # Draw bounding box\n",
    "    img = draw_bbox(img,rect)\n",
    "    # Show image\n",
    "    cv2.imshow('img',img)\n",
    "    cv2.waitKey(0)\n",
    "    cv2.destroyAllWindows()\n",
    "\n",
    "\n",
    "#pasa una pil image a np array\n",
    "def pil_to_nparray(pil_image):\n",
    "    pil_image.load()\n",
    "    return np.asarray(pil_image, dtype=\"int32\")\n",
    "\n",
    "#pasamos un array a pil image\n",
    "def nparray_to_pil(nparray):\n",
    "    return Image.fromarray(nparray)\n",
    "    \n"
   ]
  }
 ],
 "metadata": {
  "kernelspec": {
   "display_name": "Python 3",
   "language": "python",
   "name": "python3"
  },
  "language_info": {
   "codemirror_mode": {
    "name": "ipython",
    "version": 3
   },
   "file_extension": ".py",
   "mimetype": "text/x-python",
   "name": "python",
   "nbconvert_exporter": "python",
   "pygments_lexer": "ipython3",
   "version": "3.10.10"
  },
  "orig_nbformat": 4,
  "vscode": {
   "interpreter": {
    "hash": "e0d6f955f6b20eb780b1bed86b0701aab2a0d057c895afdcce576bc2196dcc6d"
   }
  }
 },
 "nbformat": 4,
 "nbformat_minor": 2
}
